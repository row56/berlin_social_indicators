{
 "cells": [
  {
   "cell_type": "markdown",
   "metadata": {},
   "source": [
    "# Introduction\n",
    "\n",
    "In this report, we present the results of our group project for the course *Data Visualization*.\n",
    "Within the group, we agreed to explore data from our immediate surroundings that directly impact our everyday lifes.\n",
    "Hence, we chose datasets from the *Berlin Open Data* Portal {cite}`openData`. *Berlin Open Data* is an open access data catalog of the Senate of Berlin and features an abundance of administration and socioeconomics associated datasets.  \n",
    "\n",
    "Through the utilization of this approach, our goal is to gain insights into our daily surroundings and to compare our intuitive understanding of social aspects with a visual analysis of empirical data."
   ]
  },
  {
   "cell_type": "markdown",
   "metadata": {},
   "source": [
    "(sec:data-selection)=\n",
    "## Data Selection\n",
    "\n",
    "We first chose approximately 30 datasets primarily centered around social aspects such as unemployment rates, income data, pollution, health status, and recreational areas.\n",
    "Besides that, we included some datasets from the traffic sector, covering road traffic accidents, traffic signal systems, and speed limits.\n",
    "Our intention was to uncover potential connections or correlations between these areas. However, we had to abandon this objective due to the fundamentally different data collection methods between social and traffic data.\n",
    "\n",
    "Moreover, the geographical units, known as LOR (Lebensweltlich orientierte Räume or \"life-oriented spaces\"), underwent a complete overhaul in 2021, making most of the datasets from before 2021 unusable. Some exceptions existed, where data like registered crimes had been reconfigured to fit the new LOR divisions. Furthermore, we faced technical challenges with certain datasets that made them infeasible to visualize due to errors on the open data portal.\n",
    "\n",
    "Eventually, we selected four datasets:\n",
    "- Kriminalitätsatlas {cite}`krimiatlas`: crime data with about 20 distinct features regarding different types of crimes\n",
    "- Umweltgerechtigkeit {cite}`umweltgerechtigkeit`: dataset encompassing various burdens like pollution and noise\n",
    "- Monitoring Soziale Stadtentwicklung {cite}`monitoring`: social indicators such as the unemployment rate\n",
    "- LOR Planungsräume {cite}`LORplan2021`: geodata for the LOR districts"
   ]
  },
  {
   "cell_type": "markdown",
   "metadata": {},
   "source": [
    "## Data Preparation\n",
    "\n",
    "The data preprocessing phase was time-consuming due to several obstacles. Some of the challenges only became apparent upon data examination, which led to extensive preprocessing of a bunch of datasets even before selecting the datasets for analysis. The data arrived in various file formats, and in one instance, we had to manually extract information from the table displayed on the open data portal since the download button was non-functional.\n",
    "\n",
    "Moreover, we had to eliminate numerous columns and rows that were irrelevant or could potentially skew the results. For example, some rows represented sums of sub-districts within the same district, leading to highly misleading plots if not removed from the analysis."
   ]
  },
  {
   "cell_type": "markdown",
   "metadata": {},
   "source": [
    "## Remark\n",
    "\n",
    "Certain plots were not displayed as intended in the HTML file, appearing as static images without animations. This made it necessary to export these graphics as separate files and embed them directly into the html file. To ensure consistent visual presentation, this was done for almost all relevant visualizations (exceptions were only th 3D plots, which could not be embedded). The code remains accessible for review, yielding the same results one can see in the embedded images. Typical environments for Python and R can be used to yield those images as outputs."
   ]
  }
 ],
 "metadata": {
  "language_info": {
   "codemirror_mode": {
    "name": "ipython",
    "version": 3
   },
   "file_extension": ".py",
   "mimetype": "text/x-python",
   "name": "python",
   "nbconvert_exporter": "python",
   "pygments_lexer": "ipython3",
   "version": "3.11.3"
  }
 },
 "nbformat": 4,
 "nbformat_minor": 2
}