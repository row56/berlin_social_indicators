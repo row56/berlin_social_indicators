{
 "cells": [
  {
   "cell_type": "markdown",
   "metadata": {},
   "source": [
    "# Temporal Development of Various Crime Features\n",
    "\n",
    "Among the selected datasets in {numref}`sec:data-selection`, the *Kriminalitätsatlas* stood out as the one with the highest usability.\n",
    "It provides about 20 relevant features. The dataset was divided into subsets for each year from 2013 to 2022. The data had been reconfigured to fit the newly introduced LOR divisions, which made it easily usable for our purpose."
   ]
  }
 ],
 "metadata": {
  "language_info": {
   "codemirror_mode": {
    "name": "ipython",
    "version": 3
   },
   "file_extension": ".py",
   "mimetype": "text/x-python",
   "name": "python",
   "nbconvert_exporter": "python",
   "pygments_lexer": "ipython3",
   "version": "3.11.3"
  }
 },
 "nbformat": 4,
 "nbformat_minor": 2
}