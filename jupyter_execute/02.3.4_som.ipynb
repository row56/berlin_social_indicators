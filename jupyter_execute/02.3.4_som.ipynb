{
 "cells": [
  {
   "cell_type": "markdown",
   "metadata": {},
   "source": [
    "# Self-Organizing Map\n",
    "\n",
    "Lastly, we want to grasp an overview over the distribution of the features selected in {numref}`sec:correlations` (population density, overall crime rate, number of burdens (environmental justice), unemployment rate, social benefits receiver rate, child poverty rate).\n",
    "The best way for us to do so without losing too much information is to use a so called Self-Organizing Map (SOM). The SOM is depicted in {numref}`fig:codes`.\n"
   ]
  },
  {
   "cell_type": "code",
   "execution_count": 1,
   "metadata": {
    "tags": [
     "hide-input",
     "hide-output"
    ],
    "vscode": {
     "languageId": "r"
    }
   },
   "outputs": [],
   "source": [
    "rm(list = ls(all.names = TRUE))\n",
    "data(swiss)\n",
    "library(kohonen)\n",
    "library(RColorBrewer)\n",
    "setwd(\"/Users/robert/Documents/Master Data Science/2. Semester/Data Visualization/PROJECT/VisuProj23\")\n",
    "\n",
    "# Load the CSV file into a DataFrame\n",
    "df <- read.csv(\"data/07_wichtigste_features_aus_04_bis_06.csv\")\n",
    "df$LOR_str <- sprintf(\"%08d\", df$LOR_str)\n",
    "df[273,3] = \"Schloßstraße Stegl.\"\n",
    "df[407,3] = \"Schloßstraße Ch'burg\"\n",
    "row.names(df) <- df$PLR_NAME\n",
    "df <- df[, -c(1:4)]\n",
    "\n",
    "old <- cur <- Inf\n",
    "dat <- scale(df)\n",
    "## iterative improvement of SOM\n",
    "for (i in 1:100){\n",
    "  erg <- som(dat, grid=somgrid(15,10,\"hexagonal\"), rlen=1000)\n",
    "  cur <- sum(erg$distances)\n",
    "  if (cur<old){\n",
    "    erg2 <- erg\n",
    "    old <- cur\n",
    "  }\n",
    "}\n",
    "\n",
    "som2pts <- function(x){\n",
    "  stopifnot(\"kohonen\" %in% class(x))\n",
    "  x$grid$pts[x$unit.classif,]\n",
    "}\n",
    "\n",
    "som_out <- som2pts(erg2)\n",
    "\n",
    "pal <- function(n) brewer.pal(n, \"Set3\")\n",
    "par(lab.cex = 1)  # Adjust the legend font size\n",
    "par(mfrow=c(1,1))\n",
    "plot(erg2, shape=\"straight\", palette.name=pal)"
   ]
  },
  {
   "cell_type": "markdown",
   "metadata": {},
   "source": [
    "```{figure} plots/codes_plot.JPG\n",
    "---\n",
    "height: 500px\n",
    "name: fig:codes\n",
    "---\n",
    "Self-Organizing Map with the features population density, overall crime rate, number of burdens (environmental justice), unemployment rate, social benefits receiver rate, and child poverty rate.\n",
    "```\n",
    "The overall picture is that we have high values for all features on the right and low values on the left. Some things are remarkable: Almost everywhere in the codes plot, we can clearly see the high correlation between unemployment, social benefits and child poverty, as the slices for the three features always are of similar size.  \n",
    "In the middle of the last line are examples for the fact that a high population density and a high number of burdens do not necessarily lead to high numbers of crimes, unemployment, social benefits or child poverty. In line six, column four, we see the opposite example, where we have low numbers for all features, except for the crime rate, which is nevertheless relatively high.   There are many more insights that one could gain from the SOM plot, mentioning all of them would go beyond the scope of this project."
   ]
  }
 ],
 "metadata": {
  "kernelspec": {
   "display_name": "R",
   "language": "R",
   "name": "ir"
  },
  "language_info": {
   "codemirror_mode": "r",
   "file_extension": ".r",
   "mimetype": "text/x-r-source",
   "name": "R",
   "pygments_lexer": "r",
   "version": "4.2.2"
  }
 },
 "nbformat": 4,
 "nbformat_minor": 2
}