{
 "cells": [
  {
   "cell_type": "markdown",
   "metadata": {},
   "source": [
    "(sec:correlations)=\n",
    "\n",
    "# Correlations Between Selected Social Aspects"
   ]
  },
  {
   "cell_type": "markdown",
   "metadata": {},
   "source": [
    "We select the following six features from our preprocessed data, based on measurements from 2021 and 2022:\n",
    "- Population density (residents per km²)\n",
    "- Overall crime rate (crimes per 100,000 residents)\n",
    "- Number of burdens (environmental justice, explained in chapter 2.1)\n",
    "- Unemployment rate (in percent)\n",
    "- Social benefits receiver rate (in percent)\n",
    "- Child poverty rate (in percent)"
   ]
  }
 ],
 "metadata": {
  "language_info": {
   "codemirror_mode": {
    "name": "ipython",
    "version": 3
   },
   "file_extension": ".py",
   "mimetype": "text/x-python",
   "name": "python",
   "nbconvert_exporter": "python",
   "pygments_lexer": "ipython3",
   "version": "3.11.3"
  }
 },
 "nbformat": 4,
 "nbformat_minor": 2
}